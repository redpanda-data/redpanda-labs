{
 "cells": [
  {
   "cell_type": "markdown",
   "id": "1041ae6f",
   "metadata": {},
   "source": [
    "![iceberg-logo](https://www.apache.org/logos/res/iceberg/iceberg.png)"
   ]
  },
  {
   "cell_type": "markdown",
   "id": "247fb2ab",
   "metadata": {},
   "source": [
    "## [Docker, Redpanda, Spark, and Iceberg: The fastest way to try Iceberg!](https://tabular.io/blog/docker-spark-and-iceberg/)"
   ]
  },
  {
   "cell_type": "markdown",
   "id": "bb47ca52",
   "metadata": {},
   "source": [
    "Follow the steps below to query Iceberg tables created from Redpanda topics.\n",
    "\n",
    "Note: Before running this notebook, ensure you have completed the setup steps in the docs, including running the Docker Compose environment and producing data to the topics."
   ]
  },
  {
   "cell_type": "markdown",
   "id": "bf49ffd7",
   "metadata": {},
   "source": [
    "To interact with the Iceberg tables, start by initializing a Spark session. Run the following code to get started:"
   ]
  },
  {
   "cell_type": "code",
   "execution_count": null,
   "id": "6a5c8206",
   "metadata": {},
   "outputs": [],
   "source": [
    "from pyspark.sql import SparkSession\n",
    "spark = SparkSession.builder.appName(\"Jupyter\").getOrCreate()\n",
    "\n",
    "spark"
   ]
  },
  {
   "cell_type": "markdown",
   "id": "6f9a9f41",
   "metadata": {},
   "source": [
    "## Query Iceberg data from Redpanda\n",
    "\n",
    "Iceberg tables are automatically created in the `redpanda` database based on the Redpanda topics. Query the `key_value` topic:"
   ]
  },
  {
   "cell_type": "code",
   "execution_count": null,
   "id": "930682ce",
   "metadata": {},
   "outputs": [],
   "source": [
    "%%sql\n",
    "\n",
    "SELECT * FROM lab.redpanda.key_value"
   ]
  },
  {
   "cell_type": "markdown",
   "id": "1b32196d",
   "metadata": {},
   "source": [
    "You can also query other Iceberg tables created from Redpanda topics. For example, to query the `value_schema_id_prefix` topic, run the following query:"
   ]
  },
  {
   "cell_type": "code",
   "execution_count": null,
   "id": "3629ea88",
   "metadata": {},
   "outputs": [],
   "source": [
    "%%sql\n",
    "\n",
    "SELECT * FROM lab.redpanda.value_schema_id_prefix"
   ]
  }
 ],
 "metadata": {
  "kernelspec": {
   "display_name": "Python 3 (ipykernel)",
   "language": "python",
   "name": "python3"
  },
  "language_info": {
   "codemirror_mode": {
    "name": "ipython",
    "version": 3
   },
   "file_extension": ".py",
   "mimetype": "text/x-python",
   "name": "python",
   "nbconvert_exporter": "python",
   "pygments_lexer": "ipython3",
   "version": "3.9.12"
  }
 },
 "nbformat": 4,
 "nbformat_minor": 5
}
